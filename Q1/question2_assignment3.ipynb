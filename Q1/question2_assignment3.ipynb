{
 "cells": [
  {
   "cell_type": "code",
   "execution_count": 2,
   "id": "c25e041f",
   "metadata": {},
   "outputs": [],
   "source": [
    "import os\n",
    "import numpy as np\n",
    "import pandas as pd\n",
    "import nltk\n",
    "import copy\n",
    "import matplotlib.pyplot as plt\n",
    "from sklearn.metrics import mean_squared_error as mse\n",
    "import networkx as nx"
   ]
  },
  {
   "cell_type": "code",
   "execution_count": 3,
   "id": "1fc80769",
   "metadata": {},
   "outputs": [],
   "source": [
    "def importFile(path):\n",
    "    content = []\n",
    "    with open(path) as f:\n",
    "        content = f.readlines()\n",
    "    \n",
    "    info = content[:3]\n",
    "    content = content[3::]\n",
    "    for i, line in enumerate(content):\n",
    "        content[i] = nltk.RegexpTokenizer(r\"\\w+\").tokenize(line)\n",
    "    info[-1] = nltk.RegexpTokenizer(r\"\\w+\").tokenize(info[-1])\n",
    "    \n",
    "    df = pd.DataFrame(content[1::], columns = content[0])\n",
    "    df[\"FromNodeId\"] = df[\"FromNodeId\"].map(int)\n",
    "    df[\"ToNodeId\"] = df[\"ToNodeId\"].map(int)\n",
    "    \n",
    "    return info, df"
   ]
  },
  {
   "cell_type": "code",
   "execution_count": 4,
   "id": "c9ef9074",
   "metadata": {},
   "outputs": [],
   "source": [
    "def createGraph(content):\n",
    "    G = nx.from_pandas_edgelist(content,source = \"FromNodeId\", target = \"ToNodeId\")\n",
    "    return G.to_directed()"
   ]
  },
  {
   "cell_type": "code",
   "execution_count": 5,
   "id": "362c6650",
   "metadata": {},
   "outputs": [],
   "source": [
    "def PageRank(G, d = 0.85, max_iters = 100):\n",
    "    n = G.number_of_nodes()\n",
    "    rank = {}\n",
    "    node_val = {}\n",
    "    error = []\n",
    "    for node in G.nodes():\n",
    "        rank[node] = 1/n\n",
    "        node_val[node] = 0\n",
    "        \n",
    "    for _ in range(max_iters):            \n",
    "        for node in G.nodes():\n",
    "            out = G.out_edges(node)\n",
    "            n_edges = len(out)\n",
    "            for edge in out:\n",
    "                node_val[edge[1]] += rank[edge[0]]/n_edges\n",
    "\n",
    "        for node in G.nodes():\n",
    "            node_val[node] = (1-d)/n + d*node_val[node]\n",
    "        \n",
    "        e = mse(list(rank.values()),list(node_val.values()))\n",
    "        error.append(e)\n",
    "        \n",
    "        for node in G.nodes():\n",
    "            rank[node] = node_val[node]\n",
    "            node_val[node] = 0\n",
    "        \n",
    "        if e < 1e-15:\n",
    "            break\n",
    "        \n",
    "    return error, rank"
   ]
  },
  {
   "cell_type": "code",
   "execution_count": 6,
   "id": "7cd1eb15",
   "metadata": {},
   "outputs": [],
   "source": [
    "def updation(G, a, b, norm, type_):\n",
    "    for node in G.nodes():\n",
    "        if type_ == \"authority\":\n",
    "            edges = G.in_edges(node)\n",
    "        else:\n",
    "            edges = G.out_edges(node)\n",
    "        n_edges = len(edges)\n",
    "        a[node] = 0\n",
    "        for edge in edges:\n",
    "            if type_ == \"authority\":\n",
    "                a[node] += b[edge[0]]\n",
    "            else:\n",
    "                a[node] += b[edge[1]]\n",
    "                \n",
    "        norm += a[node]**2\n",
    "    norm = np.sqrt(norm)\n",
    "    for node in G.nodes():\n",
    "        a[node] /= norm\n",
    "        \n",
    "def HITS(G, max_iters = 100):\n",
    "    n = G.number_of_nodes()\n",
    "    hub = {}\n",
    "    authority = {}\n",
    "    e1 = []\n",
    "    e2 = []\n",
    "    \n",
    "    for node in G.nodes():\n",
    "        hub[node] = 1\n",
    "        authority[node] = 1\n",
    "    \n",
    "    cur_auth = authority.copy()\n",
    "    cur_hub = hub.copy()\n",
    "    \n",
    "    for _ in range(max_iters):\n",
    "        updation(G,authority,hub,0,\"authority\")\n",
    "        updation(G,hub,authority,0,\"hub\")\n",
    "        \n",
    "        e1.append(mse(list(authority.values()),list(cur_auth.values())))\n",
    "        e2.append(mse(list(hub.values()),list(cur_hub.values())))\n",
    "\n",
    "        cur_auth = authority.copy()\n",
    "        cur_hub = hub.copy()\n",
    "        \n",
    "        if e1[-1] < 1e-20 and e2[-1] < 1e-20:\n",
    "            break\n",
    "            \n",
    "    return authority, hub, e1[1::], e2[1::]"
   ]
  },
  {
   "cell_type": "code",
   "execution_count": 7,
   "id": "a7b97ad0",
   "metadata": {},
   "outputs": [],
   "source": [
    "def sortDict(d, title):\n",
    "    d = {key : value for key, value in sorted(d.items(), key=lambda item: item[1], reverse = True)}\n",
    "    i = 0\n",
    "    print(\"top 10 \" + title + \" scores :\")\n",
    "    for key, val in d.items():\n",
    "        if i<10:\n",
    "            print(key,\"\\t\",val)\n",
    "        i+=1\n",
    "    print()\n",
    "    return d"
   ]
  },
  {
   "cell_type": "code",
   "execution_count": 8,
   "id": "70fdcf42",
   "metadata": {},
   "outputs": [],
   "source": [
    "path = \"dataset/Wiki-Vote.txt\"\n",
    "meta, content = importFile(path)\n",
    "G = createGraph(content)"
   ]
  },
  {
   "cell_type": "code",
   "execution_count": 9,
   "id": "f20f0a7e",
   "metadata": {},
   "outputs": [],
   "source": [
    "error, rank = PageRank(G)"
   ]
  },
  {
   "cell_type": "code",
   "execution_count": 10,
   "id": "0153f79a",
   "metadata": {
    "scrolled": true
   },
   "outputs": [
    {
     "data": {
      "text/plain": [
       "[<matplotlib.lines.Line2D at 0x1f57e1b25c0>]"
      ]
     },
     "execution_count": 10,
     "metadata": {},
     "output_type": "execute_result"
    },
    {
     "data": {
      "image/png": "[encoded data removed]",
      "text/plain": [
       "<Figure size 432x288 with 1 Axes>"
      ]
     },
     "metadata": {
      "needs_background": "light"
     },
     "output_type": "display_data"
    }
   ],
   "source": [
    "plt.plot(error)"
   ]
  },
  {
   "cell_type": "code",
   "execution_count": 11,
   "id": "63164ab0",
   "metadata": {},
   "outputs": [],
   "source": [
    "authority, hub, e1, e2 = HITS(G)"
   ]
  },
  {
   "cell_type": "code",
   "execution_count": 12,
   "id": "5af11aab",
   "metadata": {},
   "outputs": [
    {
     "data": {
      "text/plain": [
       "[<matplotlib.lines.Line2D at 0x1f57e58bc10>,\n",
       " <matplotlib.lines.Line2D at 0x1f57e58bc40>]"
      ]
     },
     "execution_count": 12,
     "metadata": {},
     "output_type": "execute_result"
    },
    {
     "data": {
      "image/png": "[encoded data removed]",
      "text/plain": [
       "<Figure size 432x288 with 1 Axes>"
      ]
     },
     "metadata": {
      "needs_background": "light"
     },
     "output_type": "display_data"
    }
   ],
   "source": [
    "plt.plot(e1,'r',e2, 'g')"
   ]
  },
  {
   "cell_type": "code",
   "execution_count": 13,
   "id": "061e0524",
   "metadata": {},
   "outputs": [
    {
     "name": "stdout",
     "output_type": "stream",
     "text": [
      "top 10 rank scores :\n",
      "2565 \t 0.0043372949187308815\n",
      "11 \t 0.003017206269367328\n",
      "766 \t 0.002968177479349323\n",
      "457 \t 0.002963411320667381\n",
      "4037 \t 0.002878218886740526\n",
      "1549 \t 0.0028581648714845506\n",
      "1166 \t 0.002669208905008099\n",
      "2688 \t 0.0023843472728713416\n",
      "15 \t 0.002163159726354969\n",
      "1374 \t 0.002131987766043142\n",
      "\n",
      "top 10 authority scores :\n",
      "2565 \t 0.15769611748358103\n",
      "766 \t 0.13015243025685455\n",
      "1549 \t 0.12938941353080033\n",
      "1166 \t 0.11950594168986171\n",
      "2688 \t 0.11008403659853248\n",
      "457 \t 0.10999186611635883\n",
      "3352 \t 0.09179709631226124\n",
      "11 \t 0.08956574261869124\n",
      "1151 \t 0.08717924518500951\n",
      "1374 \t 0.08692950770481205\n",
      "\n",
      "top 10 hub scores :\n",
      "2565 \t 0.157696117537377\n",
      "766 \t 0.13015243029945367\n",
      "1549 \t 0.12938941344572305\n",
      "1166 \t 0.11950594165584667\n",
      "2688 \t 0.11008403661789759\n",
      "457 \t 0.10999186615700852\n",
      "3352 \t 0.09179709627666102\n",
      "11 \t 0.08956574247014454\n",
      "1151 \t 0.08717924513642718\n",
      "1374 \t 0.08692950771109112\n",
      "\n"
     ]
    }
   ],
   "source": [
    "rank = sortDict(rank, \"rank\")\n",
    "authority = sortDict(authority, \"authority\")\n",
    "hub = sortDict(hub, \"hub\")"
   ]
  },
  {
   "cell_type": "code",
   "execution_count": 14,
   "id": "84facfb4",
   "metadata": {},
   "outputs": [
    {
     "data": {
      "text/plain": [
       "['# Directed graph (each unordered pair of nodes is saved once): Wiki-Vote.txt \\n',\n",
       " '# Wikipedia voting on promotion to administratorship (till January 2008). Directed edge A->B means user A voted on B becoming Wikipedia administrator.\\n',\n",
       " ['Nodes', '7115', 'Edges', '103689']]"
      ]
     },
     "execution_count": 14,
     "metadata": {},
     "output_type": "execute_result"
    }
   ],
   "source": [
    "meta"
   ]
  },
  {
   "cell_type": "code",
   "execution_count": null,
   "id": "7effcba6",
   "metadata": {},
   "outputs": [],
   "source": []
  }
 ],
 "metadata": {
  "kernelspec": {
   "display_name": "Python 3 (ipykernel)",
   "language": "python",
   "name": "python3"
  },
  "language_info": {
   "codemirror_mode": {
    "name": "ipython",
    "version": 3
   },
   "file_extension": ".py",
   "mimetype": "text/x-python",
   "name": "python",
   "nbconvert_exporter": "python",
   "pygments_lexer": "ipython3",
   "version": "3.10.4"
  }
 },
 "nbformat": 4,
 "nbformat_minor": 5
}
